{
 "cells": [
  {
   "cell_type": "code",
   "execution_count": 1,
   "metadata": {},
   "outputs": [],
   "source": [
    "import os\n",
    "import django\n",
    "os.environ.setdefault('DJANGO_SETTINGS_MODULE', 'scoreboard.settings')\n",
    "os.environ[\"DJANGO_ALLOW_ASYNC_UNSAFE\"] = \"true\"\n",
    "django.setup()"
   ]
  },
  {
   "cell_type": "code",
   "execution_count": 11,
   "metadata": {},
   "outputs": [],
   "source": [
    "from backend.models import Troop, Scout\n",
    "from django.db.models import F, Sum"
   ]
  },
  {
   "cell_type": "code",
   "execution_count": null,
   "metadata": {},
   "outputs": [],
   "source": []
  },
  {
   "cell_type": "code",
   "execution_count": 3,
   "metadata": {},
   "outputs": [],
   "source": [
    "new_troop = Troop(\n",
    "    number=43,\n",
    "    district=\"A\",\n",
    "    council=\"a\",\n",
    "    scoutmaster=\"santa\",\n",
    "    emergency_contact_num=\"16077386605\"\n",
    ")\n",
    "new_troop.save()"
   ]
  },
  {
   "cell_type": "code",
   "execution_count": 10,
   "metadata": {},
   "outputs": [
    {
     "name": "stdout",
     "output_type": "stream",
     "text": [
      "<QuerySet [<Troop: Troop 0>]>\n"
     ]
    }
   ],
   "source": [
    "troops = Troop.objects.all()\n",
    "print(troops)"
   ]
  },
  {
   "cell_type": "code",
   "execution_count": 11,
   "metadata": {},
   "outputs": [
    {
     "name": "stdout",
     "output_type": "stream",
     "text": [
      "<QuerySet [<Patrol: Patrol Hungry Hungry Hobo's - 0>]>\n"
     ]
    }
   ],
   "source": [
    "t0 = Troop.objects.first()\n",
    "print(t0.patrol_set.all())"
   ]
  },
  {
   "cell_type": "code",
   "execution_count": 25,
   "metadata": {},
   "outputs": [
    {
     "name": "stdout",
     "output_type": "stream",
     "text": [
      "<QuerySet [{'scout_name': 'James', 'patrol_name': 'Soaring Eagles', 'troop_num': 43, 'score_score': 13}, {'scout_name': 'Jake', 'patrol_name': 'Soaring Eagles', 'troop_num': 43, 'score_score': 3}, {'scout_name': 'Chris', 'patrol_name': 'Soaring Eagles', 'troop_num': 43, 'score_score': 3}]>\n"
     ]
    }
   ],
   "source": [
    "x = Scout.objects.all().annotate(\n",
    "    scout_name = F(\"name\"),\n",
    "    patrol_name = F(\"patrol__name\"),\n",
    "    troop_num = F(\"patrol__troop__number\"),\n",
    "    score_score =Sum(\"score__score\")\n",
    ").values(\n",
    "\n",
    "    \"scout_name\",\n",
    "    \"patrol_name\",\n",
    "    \"troop_num\",\n",
    "    \"score_score\"\n",
    "    \n",
    ")\n",
    "print(x)"
   ]
  },
  {
   "cell_type": "code",
   "execution_count": null,
   "metadata": {},
   "outputs": [],
   "source": []
  }
 ],
 "metadata": {
  "kernelspec": {
   "display_name": "Python 3",
   "language": "python",
   "name": "python3"
  },
  "language_info": {
   "codemirror_mode": {
    "name": "ipython",
    "version": 3
   },
   "file_extension": ".py",
   "mimetype": "text/x-python",
   "name": "python",
   "nbconvert_exporter": "python",
   "pygments_lexer": "ipython3",
   "version": "3.7.1"
  }
 },
 "nbformat": 4,
 "nbformat_minor": 4
}
