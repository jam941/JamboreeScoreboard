{
 "cells": [
  {
   "cell_type": "code",
   "execution_count": 2,
   "metadata": {},
   "outputs": [],
   "source": [
    "%load_ext autoreload\n",
    "%autoreload 2\n",
    "\n",
    "import os\n",
    "import django\n",
    "os.environ.setdefault('DJANGO_SETTINGS_MODULE', 'scoreboard.settings')\n",
    "os.environ[\"DJANGO_ALLOW_ASYNC_UNSAFE\"] = \"true\"\n",
    "django.setup()\n",
    "from backend.models import Troop, Scout, Patrol\n",
    "from django.db.models import F, Sum, Count"
   ]
  },
  {
   "cell_type": "code",
   "execution_count": 2,
   "metadata": {},
   "outputs": [],
   "source": []
  },
  {
   "cell_type": "code",
   "execution_count": null,
   "metadata": {},
   "outputs": [],
   "source": []
  },
  {
   "cell_type": "code",
   "execution_count": null,
   "metadata": {},
   "outputs": [],
   "source": [
    "new_troop = Troop(\n",
    "    number=43,\n",
    "    district=\"A\",\n",
    "    council=\"a\",\n",
    "    scoutmaster=\"santa\",\n",
    "    emergency_contact_num=\"16077386605\"\n",
    ")\n",
    "new_troop.save()"
   ]
  },
  {
   "cell_type": "code",
   "execution_count": null,
   "metadata": {},
   "outputs": [],
   "source": [
    "troops = Troop.objects.all()\n",
    "print(troops)"
   ]
  },
  {
   "cell_type": "code",
   "execution_count": null,
   "metadata": {},
   "outputs": [],
   "source": [
    "t0 = Troop.objects.first()\n",
    "print(t0.patrol_set.all())"
   ]
  },
  {
   "cell_type": "code",
   "execution_count": null,
   "metadata": {},
   "outputs": [],
   "source": [
    "x = Scout.objects.all().annotate(\n",
    "    scout_name = F(\"name\"),\n",
    "    patrol_name = F(\"patrol__name\"),\n",
    "    troop_num = F(\"patrol__troop__number\"),\n",
    "    score_score =Sum(\"score__score\")\n",
    ").values(\n",
    "\n",
    "    \"scout_name\",\n",
    "    \"patrol_name\",\n",
    "    \"troop_num\",\n",
    "    \"score_score\"\n",
    "    \n",
    ")\n",
    "print(x)"
   ]
  },
  {
   "cell_type": "code",
   "execution_count": null,
   "metadata": {},
   "outputs": [],
   "source": [
    "x = Patrol.objects.all().annotate(\n",
    "   \n",
    "    \n",
    "    score_scout = Sum(\"scout__score__score\"),\n",
    "    \n",
    ").annotate(\n",
    "    \n",
    " score_patrol = Sum(F(\"score_scout\")   + F(\"score__score\"))\n",
    "    \n",
    "    \n",
    ").values(\n",
    "\n",
    "    \"name\",\n",
    "    \"score_patrol\"\n",
    "    \n",
    ")\n",
    "print(x)"
   ]
  },
  {
   "cell_type": "code",
   "execution_count": null,
   "metadata": {},
   "outputs": [],
   "source": [
    "x = Patrol.objects.all().values('scout__name')\n",
    "#y= x.objects.all().values('test')\n",
    "print(x)"
   ]
  },
  {
   "cell_type": "code",
   "execution_count": null,
   "metadata": {},
   "outputs": [],
   "source": [
    "print(Patrol.objects.all().scouts_set())"
   ]
  },
  {
   "cell_type": "code",
   "execution_count": null,
   "metadata": {},
   "outputs": [],
   "source": [
    "(Patrol.objects.first().scout_set.all())"
   ]
  },
  {
   "cell_type": "code",
   "execution_count": 13,
   "metadata": {},
   "outputs": [
    {
     "name": "stdout",
     "output_type": "stream",
     "text": [
      "<QuerySet [21]>\n"
     ]
    }
   ],
   "source": [
    "x = Patrol.objects.all().annotate(\n",
    "    \n",
    "    score_scout = Sum(\"scout__score__score\"),\n",
    "    \n",
    ").values_list('score_scout', flat=True)\n",
    "print(x)"
   ]
  },
  {
   "cell_type": "code",
   "execution_count": 3,
   "metadata": {
    "scrolled": true
   },
   "outputs": [
    {
     "name": "stdout",
     "output_type": "stream",
     "text": [
      "26\n"
     ]
    }
   ],
   "source": [
    "x = Patrol.objects.first()\n",
    "print(x.total_score)"
   ]
  },
  {
   "cell_type": "code",
   "execution_count": 8,
   "metadata": {},
   "outputs": [
    {
     "name": "stdout",
     "output_type": "stream",
     "text": [
      "SELECT \"backend_patrol\".\"id\", \"backend_patrol\".\"name\", \"backend_patrol\".\"troop_id\" FROM \"backend_patrol\"\n"
     ]
    }
   ],
   "source": [
    "print(Patrol.objects.all()..query)"
   ]
  },
  {
   "cell_type": "code",
   "execution_count": null,
   "metadata": {},
   "outputs": [],
   "source": []
  }
 ],
 "metadata": {
  "kernelspec": {
   "display_name": "Python 3",
   "language": "python",
   "name": "python3"
  },
  "language_info": {
   "codemirror_mode": {
    "name": "ipython",
    "version": 3
   },
   "file_extension": ".py",
   "mimetype": "text/x-python",
   "name": "python",
   "nbconvert_exporter": "python",
   "pygments_lexer": "ipython3",
   "version": "3.7.1"
  }
 },
 "nbformat": 4,
 "nbformat_minor": 4
}
